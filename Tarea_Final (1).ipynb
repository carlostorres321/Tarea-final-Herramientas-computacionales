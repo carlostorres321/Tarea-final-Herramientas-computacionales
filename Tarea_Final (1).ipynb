{
  "nbformat": 4,
  "nbformat_minor": 5,
  "metadata": {
    "kernelspec": {
      "display_name": "Python 3",
      "language": "python",
      "name": "python3"
    },
    "language_info": {
      "codemirror_mode": {
        "name": "ipython",
        "version": 3
      },
      "file_extension": ".py",
      "mimetype": "text/x-python",
      "name": "python",
      "nbconvert_exporter": "python",
      "pygments_lexer": "ipython3",
      "version": "3.8.8"
    },
    "colab": {
      "name": "Tarea_Final.ipynb",
      "provenance": [],
      "collapsed_sections": []
    }
  },
  "cells": [
    {
      "cell_type": "markdown",
      "metadata": {
        "id": "c11dabf4"
      },
      "source": [
        "# TAREA FINAL\n",
        "By: Andrés Ferreira, Code : 2201764\n",
        "    Jefferson Gomez, Code : 2201293\n",
        "    Carlos Torres, Code : 2201159"
      ],
      "id": "c11dabf4"
    },
    {
      "cell_type": "code",
      "metadata": {
        "id": "f3c4d092"
      },
      "source": [
        "#Realizamos la importación de las bibliotecas a utilizar\n",
        "import numpy as np\n",
        "import pandas as pd\n",
        "import matplotlib.pyplot as plt"
      ],
      "id": "f3c4d092",
      "execution_count": null,
      "outputs": []
    },
    {
      "cell_type": "code",
      "metadata": {
        "id": "8be9e34e",
        "outputId": "062ddc3a-a455-4c30-a6bb-7ee1a58ef981"
      },
      "source": [
        "#Se lee el archivo de datos de la serie Global Intensity, así mismo, se separan sus columnas por un delimitador y se almacena\n",
        "#en una variable todo el conjunto de datos\n",
        "dat1=pd.read_csv(\"Global_intensity.csv\",delimiter=\",\")\n",
        "dat1"
      ],
      "id": "8be9e34e",
      "execution_count": null,
      "outputs": [
        {
          "data": {
            "text/html": [
              "<div>\n",
              "<style scoped>\n",
              "    .dataframe tbody tr th:only-of-type {\n",
              "        vertical-align: middle;\n",
              "    }\n",
              "\n",
              "    .dataframe tbody tr th {\n",
              "        vertical-align: top;\n",
              "    }\n",
              "\n",
              "    .dataframe thead th {\n",
              "        text-align: right;\n",
              "    }\n",
              "</style>\n",
              "<table border=\"1\" class=\"dataframe\">\n",
              "  <thead>\n",
              "    <tr style=\"text-align: right;\">\n",
              "      <th></th>\n",
              "      <th>Datetime</th>\n",
              "      <th>Global_intensity</th>\n",
              "    </tr>\n",
              "  </thead>\n",
              "  <tbody>\n",
              "    <tr>\n",
              "      <th>0</th>\n",
              "      <td>2010-01-01 00:00:00</td>\n",
              "      <td>7.4</td>\n",
              "    </tr>\n",
              "    <tr>\n",
              "      <th>1</th>\n",
              "      <td>2010-01-01 00:01:00</td>\n",
              "      <td>7.4</td>\n",
              "    </tr>\n",
              "    <tr>\n",
              "      <th>2</th>\n",
              "      <td>2010-01-01 00:02:00</td>\n",
              "      <td>7.4</td>\n",
              "    </tr>\n",
              "    <tr>\n",
              "      <th>3</th>\n",
              "      <td>2010-01-01 00:03:00</td>\n",
              "      <td>7.2</td>\n",
              "    </tr>\n",
              "    <tr>\n",
              "      <th>4</th>\n",
              "      <td>2010-01-01 00:04:00</td>\n",
              "      <td>7.0</td>\n",
              "    </tr>\n",
              "    <tr>\n",
              "      <th>...</th>\n",
              "      <td>...</td>\n",
              "      <td>...</td>\n",
              "    </tr>\n",
              "    <tr>\n",
              "      <th>457390</th>\n",
              "      <td>2010-11-26 20:58:00</td>\n",
              "      <td>4.0</td>\n",
              "    </tr>\n",
              "    <tr>\n",
              "      <th>457391</th>\n",
              "      <td>2010-11-26 20:59:00</td>\n",
              "      <td>4.0</td>\n",
              "    </tr>\n",
              "    <tr>\n",
              "      <th>457392</th>\n",
              "      <td>2010-11-26 21:00:00</td>\n",
              "      <td>3.8</td>\n",
              "    </tr>\n",
              "    <tr>\n",
              "      <th>457393</th>\n",
              "      <td>2010-11-26 21:01:00</td>\n",
              "      <td>3.8</td>\n",
              "    </tr>\n",
              "    <tr>\n",
              "      <th>457394</th>\n",
              "      <td>2010-11-26 21:02:00</td>\n",
              "      <td>3.8</td>\n",
              "    </tr>\n",
              "  </tbody>\n",
              "</table>\n",
              "<p>457395 rows × 2 columns</p>\n",
              "</div>"
            ],
            "text/plain": [
              "                   Datetime  Global_intensity\n",
              "0       2010-01-01 00:00:00               7.4\n",
              "1       2010-01-01 00:01:00               7.4\n",
              "2       2010-01-01 00:02:00               7.4\n",
              "3       2010-01-01 00:03:00               7.2\n",
              "4       2010-01-01 00:04:00               7.0\n",
              "...                     ...               ...\n",
              "457390  2010-11-26 20:58:00               4.0\n",
              "457391  2010-11-26 20:59:00               4.0\n",
              "457392  2010-11-26 21:00:00               3.8\n",
              "457393  2010-11-26 21:01:00               3.8\n",
              "457394  2010-11-26 21:02:00               3.8\n",
              "\n",
              "[457395 rows x 2 columns]"
            ]
          },
          "execution_count": 85,
          "metadata": {},
          "output_type": "execute_result"
        }
      ]
    },
    {
      "cell_type": "code",
      "metadata": {
        "id": "707438bb",
        "outputId": "7248192b-3157-48e6-9d37-58c9e62a8cf0"
      },
      "source": [
        "#Se lee el archivo de datos de la serie Active Power, así mismo, se separan sus columnas por un delimitador y se almacena\n",
        "#en una variable todo el conjunto de datos\n",
        "dat2=pd.read_csv(\"Global_active_power.csv\",delimiter=\",\")\n",
        "dat2"
      ],
      "id": "707438bb",
      "execution_count": null,
      "outputs": [
        {
          "data": {
            "text/html": [
              "<div>\n",
              "<style scoped>\n",
              "    .dataframe tbody tr th:only-of-type {\n",
              "        vertical-align: middle;\n",
              "    }\n",
              "\n",
              "    .dataframe tbody tr th {\n",
              "        vertical-align: top;\n",
              "    }\n",
              "\n",
              "    .dataframe thead th {\n",
              "        text-align: right;\n",
              "    }\n",
              "</style>\n",
              "<table border=\"1\" class=\"dataframe\">\n",
              "  <thead>\n",
              "    <tr style=\"text-align: right;\">\n",
              "      <th></th>\n",
              "      <th>Datetime</th>\n",
              "      <th>Global_active_power</th>\n",
              "    </tr>\n",
              "  </thead>\n",
              "  <tbody>\n",
              "    <tr>\n",
              "      <th>0</th>\n",
              "      <td>2010-01-01 00:00:00</td>\n",
              "      <td>1.790</td>\n",
              "    </tr>\n",
              "    <tr>\n",
              "      <th>1</th>\n",
              "      <td>2010-01-01 00:01:00</td>\n",
              "      <td>1.780</td>\n",
              "    </tr>\n",
              "    <tr>\n",
              "      <th>2</th>\n",
              "      <td>2010-01-01 00:02:00</td>\n",
              "      <td>1.780</td>\n",
              "    </tr>\n",
              "    <tr>\n",
              "      <th>3</th>\n",
              "      <td>2010-01-01 00:03:00</td>\n",
              "      <td>1.746</td>\n",
              "    </tr>\n",
              "    <tr>\n",
              "      <th>4</th>\n",
              "      <td>2010-01-01 00:04:00</td>\n",
              "      <td>1.686</td>\n",
              "    </tr>\n",
              "    <tr>\n",
              "      <th>...</th>\n",
              "      <td>...</td>\n",
              "      <td>...</td>\n",
              "    </tr>\n",
              "    <tr>\n",
              "      <th>457390</th>\n",
              "      <td>2010-11-26 20:58:00</td>\n",
              "      <td>0.946</td>\n",
              "    </tr>\n",
              "    <tr>\n",
              "      <th>457391</th>\n",
              "      <td>2010-11-26 20:59:00</td>\n",
              "      <td>0.944</td>\n",
              "    </tr>\n",
              "    <tr>\n",
              "      <th>457392</th>\n",
              "      <td>2010-11-26 21:00:00</td>\n",
              "      <td>0.938</td>\n",
              "    </tr>\n",
              "    <tr>\n",
              "      <th>457393</th>\n",
              "      <td>2010-11-26 21:01:00</td>\n",
              "      <td>0.934</td>\n",
              "    </tr>\n",
              "    <tr>\n",
              "      <th>457394</th>\n",
              "      <td>2010-11-26 21:02:00</td>\n",
              "      <td>0.932</td>\n",
              "    </tr>\n",
              "  </tbody>\n",
              "</table>\n",
              "<p>457395 rows × 2 columns</p>\n",
              "</div>"
            ],
            "text/plain": [
              "                   Datetime  Global_active_power\n",
              "0       2010-01-01 00:00:00                1.790\n",
              "1       2010-01-01 00:01:00                1.780\n",
              "2       2010-01-01 00:02:00                1.780\n",
              "3       2010-01-01 00:03:00                1.746\n",
              "4       2010-01-01 00:04:00                1.686\n",
              "...                     ...                  ...\n",
              "457390  2010-11-26 20:58:00                0.946\n",
              "457391  2010-11-26 20:59:00                0.944\n",
              "457392  2010-11-26 21:00:00                0.938\n",
              "457393  2010-11-26 21:01:00                0.934\n",
              "457394  2010-11-26 21:02:00                0.932\n",
              "\n",
              "[457395 rows x 2 columns]"
            ]
          },
          "execution_count": 31,
          "metadata": {},
          "output_type": "execute_result"
        }
      ]
    },
    {
      "cell_type": "code",
      "metadata": {
        "id": "deff7e0c"
      },
      "source": [
        "#Se lee el archivo de datos de la serie Reactive Power, así mismo, se separan sus columnas por un delimitador y se almacena\n",
        "#en una variable todo el conjunto de datos\n",
        "dat3=pd.read_csv(\"Global_reactive_power.csv\",delimiter=\",\")"
      ],
      "id": "deff7e0c",
      "execution_count": null,
      "outputs": []
    },
    {
      "cell_type": "code",
      "metadata": {
        "id": "0d99d42e"
      },
      "source": [
        "#Se lee el archivo de datos de la serie Voltage, así mismo, se separan sus columnas por un delimitador y se almacena\n",
        "#en una variable todo el conjunto de datos\n",
        "dat4=pd.read_csv(\"Voltage.csv\",delimiter=\",\")"
      ],
      "id": "0d99d42e",
      "execution_count": null,
      "outputs": []
    },
    {
      "cell_type": "code",
      "metadata": {
        "id": "1dfee3d7",
        "outputId": "169dd91c-5215-4876-b97e-ce9245492e56"
      },
      "source": [
        "#Se realiza la concatenación de todos los datos de las series Global Intensity y Global Active Power, por la columna en comun\n",
        "#Datetime  y se almacena en una variable\n",
        "datf1 = pd.merge(dat1, dat2, on=[\"Datetime\"])\n",
        "datf1"
      ],
      "id": "1dfee3d7",
      "execution_count": null,
      "outputs": [
        {
          "data": {
            "text/html": [
              "<div>\n",
              "<style scoped>\n",
              "    .dataframe tbody tr th:only-of-type {\n",
              "        vertical-align: middle;\n",
              "    }\n",
              "\n",
              "    .dataframe tbody tr th {\n",
              "        vertical-align: top;\n",
              "    }\n",
              "\n",
              "    .dataframe thead th {\n",
              "        text-align: right;\n",
              "    }\n",
              "</style>\n",
              "<table border=\"1\" class=\"dataframe\">\n",
              "  <thead>\n",
              "    <tr style=\"text-align: right;\">\n",
              "      <th></th>\n",
              "      <th>Datetime</th>\n",
              "      <th>Global_intensity</th>\n",
              "      <th>Global_active_power</th>\n",
              "    </tr>\n",
              "  </thead>\n",
              "  <tbody>\n",
              "    <tr>\n",
              "      <th>0</th>\n",
              "      <td>2010-01-01 00:00:00</td>\n",
              "      <td>7.4</td>\n",
              "      <td>1.790</td>\n",
              "    </tr>\n",
              "    <tr>\n",
              "      <th>1</th>\n",
              "      <td>2010-01-01 00:01:00</td>\n",
              "      <td>7.4</td>\n",
              "      <td>1.780</td>\n",
              "    </tr>\n",
              "    <tr>\n",
              "      <th>2</th>\n",
              "      <td>2010-01-01 00:02:00</td>\n",
              "      <td>7.4</td>\n",
              "      <td>1.780</td>\n",
              "    </tr>\n",
              "    <tr>\n",
              "      <th>3</th>\n",
              "      <td>2010-01-01 00:03:00</td>\n",
              "      <td>7.2</td>\n",
              "      <td>1.746</td>\n",
              "    </tr>\n",
              "    <tr>\n",
              "      <th>4</th>\n",
              "      <td>2010-01-01 00:04:00</td>\n",
              "      <td>7.0</td>\n",
              "      <td>1.686</td>\n",
              "    </tr>\n",
              "    <tr>\n",
              "      <th>...</th>\n",
              "      <td>...</td>\n",
              "      <td>...</td>\n",
              "      <td>...</td>\n",
              "    </tr>\n",
              "    <tr>\n",
              "      <th>457390</th>\n",
              "      <td>2010-11-26 20:58:00</td>\n",
              "      <td>4.0</td>\n",
              "      <td>0.946</td>\n",
              "    </tr>\n",
              "    <tr>\n",
              "      <th>457391</th>\n",
              "      <td>2010-11-26 20:59:00</td>\n",
              "      <td>4.0</td>\n",
              "      <td>0.944</td>\n",
              "    </tr>\n",
              "    <tr>\n",
              "      <th>457392</th>\n",
              "      <td>2010-11-26 21:00:00</td>\n",
              "      <td>3.8</td>\n",
              "      <td>0.938</td>\n",
              "    </tr>\n",
              "    <tr>\n",
              "      <th>457393</th>\n",
              "      <td>2010-11-26 21:01:00</td>\n",
              "      <td>3.8</td>\n",
              "      <td>0.934</td>\n",
              "    </tr>\n",
              "    <tr>\n",
              "      <th>457394</th>\n",
              "      <td>2010-11-26 21:02:00</td>\n",
              "      <td>3.8</td>\n",
              "      <td>0.932</td>\n",
              "    </tr>\n",
              "  </tbody>\n",
              "</table>\n",
              "<p>457395 rows × 3 columns</p>\n",
              "</div>"
            ],
            "text/plain": [
              "                   Datetime  Global_intensity  Global_active_power\n",
              "0       2010-01-01 00:00:00               7.4                1.790\n",
              "1       2010-01-01 00:01:00               7.4                1.780\n",
              "2       2010-01-01 00:02:00               7.4                1.780\n",
              "3       2010-01-01 00:03:00               7.2                1.746\n",
              "4       2010-01-01 00:04:00               7.0                1.686\n",
              "...                     ...               ...                  ...\n",
              "457390  2010-11-26 20:58:00               4.0                0.946\n",
              "457391  2010-11-26 20:59:00               4.0                0.944\n",
              "457392  2010-11-26 21:00:00               3.8                0.938\n",
              "457393  2010-11-26 21:01:00               3.8                0.934\n",
              "457394  2010-11-26 21:02:00               3.8                0.932\n",
              "\n",
              "[457395 rows x 3 columns]"
            ]
          },
          "execution_count": 58,
          "metadata": {},
          "output_type": "execute_result"
        }
      ]
    },
    {
      "cell_type": "code",
      "metadata": {
        "id": "cdc64a11",
        "outputId": "947ed2e4-2741-4c91-ab7a-60794c0c1cc5"
      },
      "source": [
        "#Se realiza la concatenación de todos los datos de las series Global Reactive Power y Voltage, por la columna en comun\n",
        "#Datetime  y se almacena en una variable\n",
        "datf2 = pd.merge(dat3, dat4, on=[\"Datetime\"])\n",
        "datf2"
      ],
      "id": "cdc64a11",
      "execution_count": null,
      "outputs": [
        {
          "data": {
            "text/html": [
              "<div>\n",
              "<style scoped>\n",
              "    .dataframe tbody tr th:only-of-type {\n",
              "        vertical-align: middle;\n",
              "    }\n",
              "\n",
              "    .dataframe tbody tr th {\n",
              "        vertical-align: top;\n",
              "    }\n",
              "\n",
              "    .dataframe thead th {\n",
              "        text-align: right;\n",
              "    }\n",
              "</style>\n",
              "<table border=\"1\" class=\"dataframe\">\n",
              "  <thead>\n",
              "    <tr style=\"text-align: right;\">\n",
              "      <th></th>\n",
              "      <th>Datetime</th>\n",
              "      <th>Global_reactive_power</th>\n",
              "      <th>Voltage</th>\n",
              "    </tr>\n",
              "  </thead>\n",
              "  <tbody>\n",
              "    <tr>\n",
              "      <th>0</th>\n",
              "      <td>2010-01-01 00:00:00</td>\n",
              "      <td>0.236</td>\n",
              "      <td>240.65</td>\n",
              "    </tr>\n",
              "    <tr>\n",
              "      <th>1</th>\n",
              "      <td>2010-01-01 00:01:00</td>\n",
              "      <td>0.234</td>\n",
              "      <td>240.07</td>\n",
              "    </tr>\n",
              "    <tr>\n",
              "      <th>2</th>\n",
              "      <td>2010-01-01 00:02:00</td>\n",
              "      <td>0.234</td>\n",
              "      <td>240.15</td>\n",
              "    </tr>\n",
              "    <tr>\n",
              "      <th>3</th>\n",
              "      <td>2010-01-01 00:03:00</td>\n",
              "      <td>0.186</td>\n",
              "      <td>240.26</td>\n",
              "    </tr>\n",
              "    <tr>\n",
              "      <th>4</th>\n",
              "      <td>2010-01-01 00:04:00</td>\n",
              "      <td>0.102</td>\n",
              "      <td>240.12</td>\n",
              "    </tr>\n",
              "    <tr>\n",
              "      <th>...</th>\n",
              "      <td>...</td>\n",
              "      <td>...</td>\n",
              "      <td>...</td>\n",
              "    </tr>\n",
              "    <tr>\n",
              "      <th>457390</th>\n",
              "      <td>2010-11-26 20:58:00</td>\n",
              "      <td>0.000</td>\n",
              "      <td>240.43</td>\n",
              "    </tr>\n",
              "    <tr>\n",
              "      <th>457391</th>\n",
              "      <td>2010-11-26 20:59:00</td>\n",
              "      <td>0.000</td>\n",
              "      <td>240.00</td>\n",
              "    </tr>\n",
              "    <tr>\n",
              "      <th>457392</th>\n",
              "      <td>2010-11-26 21:00:00</td>\n",
              "      <td>0.000</td>\n",
              "      <td>239.82</td>\n",
              "    </tr>\n",
              "    <tr>\n",
              "      <th>457393</th>\n",
              "      <td>2010-11-26 21:01:00</td>\n",
              "      <td>0.000</td>\n",
              "      <td>239.70</td>\n",
              "    </tr>\n",
              "    <tr>\n",
              "      <th>457394</th>\n",
              "      <td>2010-11-26 21:02:00</td>\n",
              "      <td>0.000</td>\n",
              "      <td>239.55</td>\n",
              "    </tr>\n",
              "  </tbody>\n",
              "</table>\n",
              "<p>457395 rows × 3 columns</p>\n",
              "</div>"
            ],
            "text/plain": [
              "                   Datetime  Global_reactive_power  Voltage\n",
              "0       2010-01-01 00:00:00                  0.236   240.65\n",
              "1       2010-01-01 00:01:00                  0.234   240.07\n",
              "2       2010-01-01 00:02:00                  0.234   240.15\n",
              "3       2010-01-01 00:03:00                  0.186   240.26\n",
              "4       2010-01-01 00:04:00                  0.102   240.12\n",
              "...                     ...                    ...      ...\n",
              "457390  2010-11-26 20:58:00                  0.000   240.43\n",
              "457391  2010-11-26 20:59:00                  0.000   240.00\n",
              "457392  2010-11-26 21:00:00                  0.000   239.82\n",
              "457393  2010-11-26 21:01:00                  0.000   239.70\n",
              "457394  2010-11-26 21:02:00                  0.000   239.55\n",
              "\n",
              "[457395 rows x 3 columns]"
            ]
          },
          "execution_count": 59,
          "metadata": {},
          "output_type": "execute_result"
        }
      ]
    },
    {
      "cell_type": "code",
      "metadata": {
        "id": "18e2bbba",
        "outputId": "33a93412-f14a-4cbe-9af6-3090ff75e591"
      },
      "source": [
        "#Se realiza la concatenación de todos los datos de las concatenaciones hechas anteriormente\n",
        "datf3 = pd.merge(datf1, datf2, on=[\"Datetime\"])\n",
        "datf3"
      ],
      "id": "18e2bbba",
      "execution_count": null,
      "outputs": [
        {
          "data": {
            "text/html": [
              "<div>\n",
              "<style scoped>\n",
              "    .dataframe tbody tr th:only-of-type {\n",
              "        vertical-align: middle;\n",
              "    }\n",
              "\n",
              "    .dataframe tbody tr th {\n",
              "        vertical-align: top;\n",
              "    }\n",
              "\n",
              "    .dataframe thead th {\n",
              "        text-align: right;\n",
              "    }\n",
              "</style>\n",
              "<table border=\"1\" class=\"dataframe\">\n",
              "  <thead>\n",
              "    <tr style=\"text-align: right;\">\n",
              "      <th></th>\n",
              "      <th>Datetime</th>\n",
              "      <th>Global_intensity</th>\n",
              "      <th>Global_active_power</th>\n",
              "      <th>Global_reactive_power</th>\n",
              "      <th>Voltage</th>\n",
              "    </tr>\n",
              "  </thead>\n",
              "  <tbody>\n",
              "    <tr>\n",
              "      <th>0</th>\n",
              "      <td>2010-01-01 00:00:00</td>\n",
              "      <td>7.4</td>\n",
              "      <td>1.790</td>\n",
              "      <td>0.236</td>\n",
              "      <td>240.65</td>\n",
              "    </tr>\n",
              "    <tr>\n",
              "      <th>1</th>\n",
              "      <td>2010-01-01 00:01:00</td>\n",
              "      <td>7.4</td>\n",
              "      <td>1.780</td>\n",
              "      <td>0.234</td>\n",
              "      <td>240.07</td>\n",
              "    </tr>\n",
              "    <tr>\n",
              "      <th>2</th>\n",
              "      <td>2010-01-01 00:02:00</td>\n",
              "      <td>7.4</td>\n",
              "      <td>1.780</td>\n",
              "      <td>0.234</td>\n",
              "      <td>240.15</td>\n",
              "    </tr>\n",
              "    <tr>\n",
              "      <th>3</th>\n",
              "      <td>2010-01-01 00:03:00</td>\n",
              "      <td>7.2</td>\n",
              "      <td>1.746</td>\n",
              "      <td>0.186</td>\n",
              "      <td>240.26</td>\n",
              "    </tr>\n",
              "    <tr>\n",
              "      <th>4</th>\n",
              "      <td>2010-01-01 00:04:00</td>\n",
              "      <td>7.0</td>\n",
              "      <td>1.686</td>\n",
              "      <td>0.102</td>\n",
              "      <td>240.12</td>\n",
              "    </tr>\n",
              "    <tr>\n",
              "      <th>...</th>\n",
              "      <td>...</td>\n",
              "      <td>...</td>\n",
              "      <td>...</td>\n",
              "      <td>...</td>\n",
              "      <td>...</td>\n",
              "    </tr>\n",
              "    <tr>\n",
              "      <th>457390</th>\n",
              "      <td>2010-11-26 20:58:00</td>\n",
              "      <td>4.0</td>\n",
              "      <td>0.946</td>\n",
              "      <td>0.000</td>\n",
              "      <td>240.43</td>\n",
              "    </tr>\n",
              "    <tr>\n",
              "      <th>457391</th>\n",
              "      <td>2010-11-26 20:59:00</td>\n",
              "      <td>4.0</td>\n",
              "      <td>0.944</td>\n",
              "      <td>0.000</td>\n",
              "      <td>240.00</td>\n",
              "    </tr>\n",
              "    <tr>\n",
              "      <th>457392</th>\n",
              "      <td>2010-11-26 21:00:00</td>\n",
              "      <td>3.8</td>\n",
              "      <td>0.938</td>\n",
              "      <td>0.000</td>\n",
              "      <td>239.82</td>\n",
              "    </tr>\n",
              "    <tr>\n",
              "      <th>457393</th>\n",
              "      <td>2010-11-26 21:01:00</td>\n",
              "      <td>3.8</td>\n",
              "      <td>0.934</td>\n",
              "      <td>0.000</td>\n",
              "      <td>239.70</td>\n",
              "    </tr>\n",
              "    <tr>\n",
              "      <th>457394</th>\n",
              "      <td>2010-11-26 21:02:00</td>\n",
              "      <td>3.8</td>\n",
              "      <td>0.932</td>\n",
              "      <td>0.000</td>\n",
              "      <td>239.55</td>\n",
              "    </tr>\n",
              "  </tbody>\n",
              "</table>\n",
              "<p>457395 rows × 5 columns</p>\n",
              "</div>"
            ],
            "text/plain": [
              "                   Datetime  Global_intensity  Global_active_power  \\\n",
              "0       2010-01-01 00:00:00               7.4                1.790   \n",
              "1       2010-01-01 00:01:00               7.4                1.780   \n",
              "2       2010-01-01 00:02:00               7.4                1.780   \n",
              "3       2010-01-01 00:03:00               7.2                1.746   \n",
              "4       2010-01-01 00:04:00               7.0                1.686   \n",
              "...                     ...               ...                  ...   \n",
              "457390  2010-11-26 20:58:00               4.0                0.946   \n",
              "457391  2010-11-26 20:59:00               4.0                0.944   \n",
              "457392  2010-11-26 21:00:00               3.8                0.938   \n",
              "457393  2010-11-26 21:01:00               3.8                0.934   \n",
              "457394  2010-11-26 21:02:00               3.8                0.932   \n",
              "\n",
              "        Global_reactive_power  Voltage  \n",
              "0                       0.236   240.65  \n",
              "1                       0.234   240.07  \n",
              "2                       0.234   240.15  \n",
              "3                       0.186   240.26  \n",
              "4                       0.102   240.12  \n",
              "...                       ...      ...  \n",
              "457390                  0.000   240.43  \n",
              "457391                  0.000   240.00  \n",
              "457392                  0.000   239.82  \n",
              "457393                  0.000   239.70  \n",
              "457394                  0.000   239.55  \n",
              "\n",
              "[457395 rows x 5 columns]"
            ]
          },
          "execution_count": 60,
          "metadata": {},
          "output_type": "execute_result"
        }
      ]
    },
    {
      "cell_type": "code",
      "metadata": {
        "id": "a532d403"
      },
      "source": [
        "#Se establece como indice en el dataframe la columna \"Datetime\"\n",
        "data = datf3.set_index('Datetime')\n",
        "data.index = pd.to_datetime(data.index)"
      ],
      "id": "a532d403",
      "execution_count": null,
      "outputs": []
    },
    {
      "cell_type": "code",
      "metadata": {
        "id": "1535c4fc",
        "outputId": "897392a1-6ae7-49a7-d43a-cbe4570cce15"
      },
      "source": [
        "#Se realiza un resmaple de los datos según el \"Datetime\", en este caso por días (D), el valor para cada día es un promedio\n",
        "data_d = data.resample('D').mean()\n",
        "data_d"
      ],
      "id": "1535c4fc",
      "execution_count": null,
      "outputs": [
        {
          "data": {
            "text/html": [
              "<div>\n",
              "<style scoped>\n",
              "    .dataframe tbody tr th:only-of-type {\n",
              "        vertical-align: middle;\n",
              "    }\n",
              "\n",
              "    .dataframe tbody tr th {\n",
              "        vertical-align: top;\n",
              "    }\n",
              "\n",
              "    .dataframe thead th {\n",
              "        text-align: right;\n",
              "    }\n",
              "</style>\n",
              "<table border=\"1\" class=\"dataframe\">\n",
              "  <thead>\n",
              "    <tr style=\"text-align: right;\">\n",
              "      <th></th>\n",
              "      <th>Global_intensity</th>\n",
              "      <th>Global_active_power</th>\n",
              "      <th>Global_reactive_power</th>\n",
              "      <th>Voltage</th>\n",
              "    </tr>\n",
              "    <tr>\n",
              "      <th>Datetime</th>\n",
              "      <th></th>\n",
              "      <th></th>\n",
              "      <th></th>\n",
              "      <th></th>\n",
              "    </tr>\n",
              "  </thead>\n",
              "  <tbody>\n",
              "    <tr>\n",
              "      <th>2010-01-01</th>\n",
              "      <td>3.537083</td>\n",
              "      <td>0.850175</td>\n",
              "      <td>0.114817</td>\n",
              "      <td>242.565722</td>\n",
              "    </tr>\n",
              "    <tr>\n",
              "      <th>2010-01-02</th>\n",
              "      <td>4.857778</td>\n",
              "      <td>1.176235</td>\n",
              "      <td>0.086656</td>\n",
              "      <td>243.631743</td>\n",
              "    </tr>\n",
              "    <tr>\n",
              "      <th>2010-01-03</th>\n",
              "      <td>3.757778</td>\n",
              "      <td>0.901894</td>\n",
              "      <td>0.090331</td>\n",
              "      <td>241.822778</td>\n",
              "    </tr>\n",
              "    <tr>\n",
              "      <th>2010-01-04</th>\n",
              "      <td>4.879028</td>\n",
              "      <td>1.171833</td>\n",
              "      <td>0.100322</td>\n",
              "      <td>241.754160</td>\n",
              "    </tr>\n",
              "    <tr>\n",
              "      <th>2010-01-05</th>\n",
              "      <td>3.929861</td>\n",
              "      <td>0.916776</td>\n",
              "      <td>0.133697</td>\n",
              "      <td>240.647167</td>\n",
              "    </tr>\n",
              "    <tr>\n",
              "      <th>...</th>\n",
              "      <td>...</td>\n",
              "      <td>...</td>\n",
              "      <td>...</td>\n",
              "      <td>...</td>\n",
              "    </tr>\n",
              "    <tr>\n",
              "      <th>2010-12-07</th>\n",
              "      <td>3.397222</td>\n",
              "      <td>0.770538</td>\n",
              "      <td>0.198550</td>\n",
              "      <td>240.218646</td>\n",
              "    </tr>\n",
              "    <tr>\n",
              "      <th>2010-12-08</th>\n",
              "      <td>1.623750</td>\n",
              "      <td>0.367846</td>\n",
              "      <td>0.117429</td>\n",
              "      <td>240.794931</td>\n",
              "    </tr>\n",
              "    <tr>\n",
              "      <th>2010-12-09</th>\n",
              "      <td>4.755694</td>\n",
              "      <td>1.119508</td>\n",
              "      <td>0.139832</td>\n",
              "      <td>241.619722</td>\n",
              "    </tr>\n",
              "    <tr>\n",
              "      <th>2010-12-10</th>\n",
              "      <td>4.681389</td>\n",
              "      <td>1.097008</td>\n",
              "      <td>0.118242</td>\n",
              "      <td>240.260674</td>\n",
              "    </tr>\n",
              "    <tr>\n",
              "      <th>2010-12-11</th>\n",
              "      <td>5.434861</td>\n",
              "      <td>1.275571</td>\n",
              "      <td>0.104961</td>\n",
              "      <td>238.837896</td>\n",
              "    </tr>\n",
              "  </tbody>\n",
              "</table>\n",
              "<p>345 rows × 4 columns</p>\n",
              "</div>"
            ],
            "text/plain": [
              "            Global_intensity  Global_active_power  Global_reactive_power  \\\n",
              "Datetime                                                                   \n",
              "2010-01-01          3.537083             0.850175               0.114817   \n",
              "2010-01-02          4.857778             1.176235               0.086656   \n",
              "2010-01-03          3.757778             0.901894               0.090331   \n",
              "2010-01-04          4.879028             1.171833               0.100322   \n",
              "2010-01-05          3.929861             0.916776               0.133697   \n",
              "...                      ...                  ...                    ...   \n",
              "2010-12-07          3.397222             0.770538               0.198550   \n",
              "2010-12-08          1.623750             0.367846               0.117429   \n",
              "2010-12-09          4.755694             1.119508               0.139832   \n",
              "2010-12-10          4.681389             1.097008               0.118242   \n",
              "2010-12-11          5.434861             1.275571               0.104961   \n",
              "\n",
              "               Voltage  \n",
              "Datetime                \n",
              "2010-01-01  242.565722  \n",
              "2010-01-02  243.631743  \n",
              "2010-01-03  241.822778  \n",
              "2010-01-04  241.754160  \n",
              "2010-01-05  240.647167  \n",
              "...                ...  \n",
              "2010-12-07  240.218646  \n",
              "2010-12-08  240.794931  \n",
              "2010-12-09  241.619722  \n",
              "2010-12-10  240.260674  \n",
              "2010-12-11  238.837896  \n",
              "\n",
              "[345 rows x 4 columns]"
            ]
          },
          "execution_count": 62,
          "metadata": {},
          "output_type": "execute_result"
        }
      ]
    },
    {
      "cell_type": "code",
      "metadata": {
        "scrolled": true,
        "id": "3050bae4",
        "outputId": "370bbc5f-741d-4f9f-ef02-b5a236acd843"
      },
      "source": [
        "#Se realizaun resmaple de los datos según el \"Datetime\", en este caso por meses (M), el valor para cada mes es un promedio\n",
        "data_m = data.resample('M').mean()\n",
        "data_m"
      ],
      "id": "3050bae4",
      "execution_count": null,
      "outputs": [
        {
          "data": {
            "text/html": [
              "<div>\n",
              "<style scoped>\n",
              "    .dataframe tbody tr th:only-of-type {\n",
              "        vertical-align: middle;\n",
              "    }\n",
              "\n",
              "    .dataframe tbody tr th {\n",
              "        vertical-align: top;\n",
              "    }\n",
              "\n",
              "    .dataframe thead th {\n",
              "        text-align: right;\n",
              "    }\n",
              "</style>\n",
              "<table border=\"1\" class=\"dataframe\">\n",
              "  <thead>\n",
              "    <tr style=\"text-align: right;\">\n",
              "      <th></th>\n",
              "      <th>Global_intensity</th>\n",
              "      <th>Global_active_power</th>\n",
              "      <th>Global_reactive_power</th>\n",
              "      <th>Voltage</th>\n",
              "    </tr>\n",
              "    <tr>\n",
              "      <th>Datetime</th>\n",
              "      <th></th>\n",
              "      <th></th>\n",
              "      <th></th>\n",
              "      <th></th>\n",
              "    </tr>\n",
              "  </thead>\n",
              "  <tbody>\n",
              "    <tr>\n",
              "      <th>2010-01-31</th>\n",
              "      <td>5.430332</td>\n",
              "      <td>1.300640</td>\n",
              "      <td>0.125182</td>\n",
              "      <td>242.338522</td>\n",
              "    </tr>\n",
              "    <tr>\n",
              "      <th>2010-02-28</th>\n",
              "      <td>4.836624</td>\n",
              "      <td>1.157539</td>\n",
              "      <td>0.109467</td>\n",
              "      <td>242.002101</td>\n",
              "    </tr>\n",
              "    <tr>\n",
              "      <th>2010-03-31</th>\n",
              "      <td>4.920399</td>\n",
              "      <td>1.170015</td>\n",
              "      <td>0.136368</td>\n",
              "      <td>241.475284</td>\n",
              "    </tr>\n",
              "    <tr>\n",
              "      <th>2010-04-30</th>\n",
              "      <td>4.363496</td>\n",
              "      <td>1.036334</td>\n",
              "      <td>0.129557</td>\n",
              "      <td>241.442527</td>\n",
              "    </tr>\n",
              "    <tr>\n",
              "      <th>2010-05-31</th>\n",
              "      <td>4.551504</td>\n",
              "      <td>1.075957</td>\n",
              "      <td>0.127221</td>\n",
              "      <td>241.296151</td>\n",
              "    </tr>\n",
              "    <tr>\n",
              "      <th>2010-06-30</th>\n",
              "      <td>4.170282</td>\n",
              "      <td>0.975306</td>\n",
              "      <td>0.145525</td>\n",
              "      <td>240.888985</td>\n",
              "    </tr>\n",
              "    <tr>\n",
              "      <th>2010-07-31</th>\n",
              "      <td>3.337202</td>\n",
              "      <td>0.778947</td>\n",
              "      <td>0.138093</td>\n",
              "      <td>240.965167</td>\n",
              "    </tr>\n",
              "    <tr>\n",
              "      <th>2010-08-31</th>\n",
              "      <td>3.954423</td>\n",
              "      <td>0.929452</td>\n",
              "      <td>0.130815</td>\n",
              "      <td>241.422944</td>\n",
              "    </tr>\n",
              "    <tr>\n",
              "      <th>2010-09-30</th>\n",
              "      <td>4.223837</td>\n",
              "      <td>0.997541</td>\n",
              "      <td>0.127700</td>\n",
              "      <td>241.267517</td>\n",
              "    </tr>\n",
              "    <tr>\n",
              "      <th>2010-10-31</th>\n",
              "      <td>4.732904</td>\n",
              "      <td>1.127749</td>\n",
              "      <td>0.134547</td>\n",
              "      <td>242.515451</td>\n",
              "    </tr>\n",
              "    <tr>\n",
              "      <th>2010-11-30</th>\n",
              "      <td>4.679594</td>\n",
              "      <td>1.106450</td>\n",
              "      <td>0.115390</td>\n",
              "      <td>241.024739</td>\n",
              "    </tr>\n",
              "    <tr>\n",
              "      <th>2010-12-31</th>\n",
              "      <td>4.673267</td>\n",
              "      <td>1.107559</td>\n",
              "      <td>0.129499</td>\n",
              "      <td>241.420479</td>\n",
              "    </tr>\n",
              "  </tbody>\n",
              "</table>\n",
              "</div>"
            ],
            "text/plain": [
              "            Global_intensity  Global_active_power  Global_reactive_power  \\\n",
              "Datetime                                                                   \n",
              "2010-01-31          5.430332             1.300640               0.125182   \n",
              "2010-02-28          4.836624             1.157539               0.109467   \n",
              "2010-03-31          4.920399             1.170015               0.136368   \n",
              "2010-04-30          4.363496             1.036334               0.129557   \n",
              "2010-05-31          4.551504             1.075957               0.127221   \n",
              "2010-06-30          4.170282             0.975306               0.145525   \n",
              "2010-07-31          3.337202             0.778947               0.138093   \n",
              "2010-08-31          3.954423             0.929452               0.130815   \n",
              "2010-09-30          4.223837             0.997541               0.127700   \n",
              "2010-10-31          4.732904             1.127749               0.134547   \n",
              "2010-11-30          4.679594             1.106450               0.115390   \n",
              "2010-12-31          4.673267             1.107559               0.129499   \n",
              "\n",
              "               Voltage  \n",
              "Datetime                \n",
              "2010-01-31  242.338522  \n",
              "2010-02-28  242.002101  \n",
              "2010-03-31  241.475284  \n",
              "2010-04-30  241.442527  \n",
              "2010-05-31  241.296151  \n",
              "2010-06-30  240.888985  \n",
              "2010-07-31  240.965167  \n",
              "2010-08-31  241.422944  \n",
              "2010-09-30  241.267517  \n",
              "2010-10-31  242.515451  \n",
              "2010-11-30  241.024739  \n",
              "2010-12-31  241.420479  "
            ]
          },
          "execution_count": 63,
          "metadata": {},
          "output_type": "execute_result"
        }
      ]
    },
    {
      "cell_type": "markdown",
      "metadata": {
        "id": "ff996b1d"
      },
      "source": [
        "# Por otro lado, para las relaciones entre las variables, se pueden distinguir 3 :"
      ],
      "id": "ff996b1d"
    },
    {
      "cell_type": "markdown",
      "metadata": {
        "id": "c3579676"
      },
      "source": [
        "1. Relación 1 : Global_active_power = $A_{1}$(Global_intensity) + $B_{1}$\n",
        "2. Relación 2 : Global_active_power = $A_{2}$(Voltage) + $B_{2}$\n",
        "3. Relación 3 : Global_active_power = $A_{31}$(Global_intensity) + $A_{32}$(Voltage) + $B_{3}$"
      ],
      "id": "c3579676"
    },
    {
      "cell_type": "code",
      "metadata": {
        "id": "e555c07a"
      },
      "source": [
        "#Se importa la librería curve.fit del módulo scipy.optimize, que es la encargada de realizar los ajustes de las variables\n",
        "#de manera sistemática.\n",
        "from scipy.optimize import curve_fit "
      ],
      "id": "e555c07a",
      "execution_count": null,
      "outputs": []
    },
    {
      "cell_type": "markdown",
      "metadata": {
        "id": "8809ed82"
      },
      "source": [
        "Después de esto, lo primero, fue definir las funciones que serían los posibles ajustes de cada caso en cuestión."
      ],
      "id": "8809ed82"
    },
    {
      "cell_type": "code",
      "metadata": {
        "id": "e090aeb9"
      },
      "source": [
        "def func1(x, a, b): #esta función define un ajuste lineal, con a, la pendiente y b el punto de corte con el eje y.\n",
        "    return a*x+b\n",
        "\n",
        "def func2(x, a, b, c): #esta función define un ajuste cuadrático.\n",
        "    return a*x**2+b*x+c\n",
        "\n",
        "def func3(x, a, b, c): #esta función define un ajuste exponencial.\n",
        "    return a*np.exp(b*x)+c"
      ],
      "id": "e090aeb9",
      "execution_count": null,
      "outputs": []
    },
    {
      "cell_type": "markdown",
      "metadata": {
        "id": "fbca3499"
      },
      "source": [
        "Luego, se definió la función get_fit, encargada de realizar el gráfico tanto de los datos experimentales, como del ajuste, según la función para ajuste otorgada."
      ],
      "id": "fbca3499"
    },
    {
      "cell_type": "code",
      "metadata": {
        "id": "e7b52649"
      },
      "source": [
        "def get_fit(func,xdata,ydata,labelx,labely,r):\n",
        "    popt, pcov = curve_fit(func, xdata, ydata)\n",
        "    popt, pcov = np.around(popt,r), np.around(np.sqrt(np.diag(pcov)),r)\n",
        "    x=np.linspace(xdata.min(),xdata.max(),100)\n",
        "    plt.figure(figsize=(8,6))\n",
        "    plt.plot(x, func(x, *popt), 'r-',label=r'fit: {}$\\pm${}'.format(np.around(tuple(popt),r),tuple(pcov)))\n",
        "    plt.scatter(xdata,ydata,label=\"Original data\")\n",
        "    plt.xlabel(labelx)\n",
        "    plt.ylabel(labely)\n",
        "    plt.legend()\n",
        "    plt.show()\n",
        "    print(\"Coeficients are : {}\".format(popt))\n",
        "    print(\"Sigma_Coeficients are : {}\".format(pcov))\n",
        "    return #popt, np.sqrt(np.diag(pcov))"
      ],
      "id": "e7b52649",
      "execution_count": null,
      "outputs": []
    },
    {
      "cell_type": "code",
      "metadata": {
        "id": "1a1480d5"
      },
      "source": [
        "Además, se definió otra función, denomiada get_fit2, encargada de mostrar el error en cada uno de los ajustes."
      ],
      "id": "1a1480d5",
      "execution_count": null,
      "outputs": []
    },
    {
      "cell_type": "code",
      "metadata": {
        "id": "f9ac8171"
      },
      "source": [
        "def get_fit2(func,xdata,ydata,labelx,labely,r):\n",
        "    popt, pcov = curve_fit(func, xdata, ydata)\n",
        "    popt, pcov = np.around(popt,r), np.around(pcov,r)\n",
        "    x=np.linspace(xdata.min(),xdata.max(),100)\n",
        "    E=np.sqrt(np.mean((ydata-func(xdata, *popt))**2))\n",
        "    print(\"Error on fit is ={}\".format(E))\n",
        "    return popt, pcov"
      ],
      "id": "f9ac8171",
      "execution_count": null,
      "outputs": []
    },
    {
      "cell_type": "markdown",
      "metadata": {
        "id": "57130d4c"
      },
      "source": [
        "Así, se buscó entonces para cada una de las relaciones, el ajuste que se consideró mejor, así como su error y el error en los paramétros del mismo, empleando las funciones definidas recientemente."
      ],
      "id": "57130d4c"
    },
    {
      "cell_type": "markdown",
      "metadata": {
        "id": "1e0ffec5"
      },
      "source": [
        "1. Relación 1 : Global_active_power = $A_{1}$(Global_intensity) + $B_{1}$"
      ],
      "id": "1e0ffec5"
    },
    {
      "cell_type": "code",
      "metadata": {
        "id": "97720d68",
        "outputId": "3071f1e9-58e8-46b3-e362-7abed0a20baf"
      },
      "source": [
        "get_fit(func1,data[\"Global_active_power\"],data[\"Global_intensity\"],\"Global_active_power\",\"Global_intensity\",2)"
      ],
      "id": "97720d68",
      "execution_count": null,
      "outputs": [
        {
          "data": {
            "image/png": "[encoded data removed]",
            "text/plain": [
              "<Figure size 576x432 with 1 Axes>"
            ]
          },
          "metadata": {
            "needs_background": "light"
          },
          "output_type": "display_data"
        },
        {
          "name": "stdout",
          "output_type": "stream",
          "text": [
            "Coeficients are : [4.28 0.03]\n",
            "Sigma_Coeficients are : [0. 0.]\n"
          ]
        }
      ]
    },
    {
      "cell_type": "code",
      "metadata": {
        "id": "65c2cb4a",
        "outputId": "93744f4d-4e69-4542-fe93-6d49d3172744"
      },
      "source": [
        "get_fit2(func1,data[\"Global_active_power\"],data[\"Global_intensity\"],\"Global_active_power\",\"Global_intensity\",2)"
      ],
      "id": "65c2cb4a",
      "execution_count": null,
      "outputs": [
        {
          "name": "stdout",
          "output_type": "stream",
          "text": [
            "Error on fit is =0.14964265452072945\n"
          ]
        },
        {
          "data": {
            "text/plain": [
              "(array([4.28, 0.03]),\n",
              " array([[ 0., -0.],\n",
              "        [-0.,  0.]]))"
            ]
          },
          "execution_count": 87,
          "metadata": {},
          "output_type": "execute_result"
        }
      ]
    },
    {
      "cell_type": "markdown",
      "metadata": {
        "id": "00d06c8e"
      },
      "source": [
        "De igual manera, se realizó el ajuste para los resamples con días(D) y con meses(M)."
      ],
      "id": "00d06c8e"
    },
    {
      "cell_type": "markdown",
      "metadata": {
        "id": "6ebce0fb"
      },
      "source": [
        "i. Ajuste para el resample con días"
      ],
      "id": "6ebce0fb"
    },
    {
      "cell_type": "code",
      "metadata": {
        "id": "ee12f390",
        "outputId": "ad7234ff-feed-4a6d-9a56-f2bd91d9f628"
      },
      "source": [
        "data_d=data_d.dropna() #se excluyen del dataframe data_d los datos vacíos (nAn)\n",
        "#data_d\n",
        "get_fit(func1,data_d[\"Global_active_power\"],data_d[\"Global_intensity\"],\"Global_active_power\",\"Global_intensity\",2)\n",
        "get_fit2(func1,data_d[\"Global_active_power\"],data_d[\"Global_intensity\"],\"Global_active_power\",\"Global_intensity\",2)"
      ],
      "id": "ee12f390",
      "execution_count": null,
      "outputs": [
        {
          "data": {
            "image/png": "[encoded data removed]",
            "text/plain": [
              "<Figure size 576x432 with 1 Axes>"
            ]
          },
          "metadata": {
            "needs_background": "light"
          },
          "output_type": "display_data"
        },
        {
          "name": "stdout",
          "output_type": "stream",
          "text": [
            "Coeficients are : [4.11 0.12]\n",
            "Sigma_Coeficients are : [0.01 0.01]\n",
            "Error on fit is =0.06262995164748553\n"
          ]
        },
        {
          "data": {
            "text/plain": [
              "(array([4.11, 0.12]),\n",
              " array([[ 0., -0.],\n",
              "        [-0.,  0.]]))"
            ]
          },
          "execution_count": 99,
          "metadata": {},
          "output_type": "execute_result"
        }
      ]
    },
    {
      "cell_type": "markdown",
      "metadata": {
        "id": "26cfb68d"
      },
      "source": [
        "ii. Ajuste para el resample con meses"
      ],
      "id": "26cfb68d"
    },
    {
      "cell_type": "code",
      "metadata": {
        "id": "9234f3a0",
        "outputId": "4a7672d0-bfdf-438f-b627-039f5fcc5f91"
      },
      "source": [
        "data_m=data_m.dropna() #se excluyen del dataframe data_m los datos vacíos (nAn)\n",
        "#data_d\n",
        "get_fit(func1,data_m[\"Global_active_power\"],data_m[\"Global_intensity\"],\"Global_active_power\",\"Global_intensity\",2)\n",
        "get_fit2(func1,data_m[\"Global_active_power\"],data_m[\"Global_intensity\"],\"Global_active_power\",\"Global_intensity\",2)"
      ],
      "id": "9234f3a0",
      "execution_count": null,
      "outputs": [
        {
          "data": {
            "image/png": "[encoded data removed]",
            "text/plain": [
              "<Figure size 576x432 with 1 Axes>"
            ]
          },
          "metadata": {
            "needs_background": "light"
          },
          "output_type": "display_data"
        },
        {
          "name": "stdout",
          "output_type": "stream",
          "text": [
            "Coeficients are : [3.99 0.25]\n",
            "Sigma_Coeficients are : [0.04 0.04]\n",
            "Error on fit is =0.017036491738909938\n"
          ]
        },
        {
          "data": {
            "text/plain": [
              "(array([3.99, 0.25]),\n",
              " array([[ 0., -0.],\n",
              "        [-0.,  0.]]))"
            ]
          },
          "execution_count": 100,
          "metadata": {},
          "output_type": "execute_result"
        }
      ]
    },
    {
      "cell_type": "markdown",
      "metadata": {
        "id": "f70312fa"
      },
      "source": [
        "2. Relación 2 : Global_active_power = $A_{2}$(Voltage) + $B_{2}$"
      ],
      "id": "f70312fa"
    },
    {
      "cell_type": "code",
      "metadata": {
        "scrolled": true,
        "id": "f86d4d54",
        "outputId": "42d68988-5541-444d-8df7-398e847276e1"
      },
      "source": [
        "get_fit(func1,data[\"Global_active_power\"],data[\"Voltage\"],\"Global_active_power\",\"Voltage\",2)"
      ],
      "id": "f86d4d54",
      "execution_count": null,
      "outputs": [
        {
          "name": "stderr",
          "output_type": "stream",
          "text": [
            "C:\\Users\\Andres Ferreira\\anaconda3\\lib\\site-packages\\IPython\\core\\pylabtools.py:132: UserWarning: Creating legend with loc=\"best\" can be slow with large amounts of data.\n",
            "  fig.canvas.print_figure(bytes_io, **kw)\n"
          ]
        },
        {
          "data": {
            "image/png": "[encoded data removed]",
            "text/plain": [
              "<Figure size 576x432 with 1 Axes>"
            ]
          },
          "metadata": {
            "needs_background": "light"
          },
          "output_type": "display_data"
        },
        {
          "name": "stdout",
          "output_type": "stream",
          "text": [
            "Coeficients are : [ -1.15 242.89]\n",
            "Sigma_Coeficients are : [0.03 0.01]\n"
          ]
        }
      ]
    },
    {
      "cell_type": "code",
      "metadata": {
        "id": "2e96a437",
        "outputId": "b617e27b-cf91-4c5a-fc73-e7bd6d4b03e1"
      },
      "source": [
        "get_fit2(func1,data[\"Global_active_power\"],data[\"Voltage\"],\"Global_active_power\",\"Voltage\",2)"
      ],
      "id": "2e96a437",
      "execution_count": null,
      "outputs": [
        {
          "name": "stdout",
          "output_type": "stream",
          "text": [
            "Error on fit is =2.491896031452086\n"
          ]
        },
        {
          "data": {
            "text/plain": [
              "(array([ -1.15, 242.89]),\n",
              " array([[ 0., -0.],\n",
              "        [-0.,  0.]]))"
            ]
          },
          "execution_count": 89,
          "metadata": {},
          "output_type": "execute_result"
        }
      ]
    },
    {
      "cell_type": "markdown",
      "metadata": {
        "id": "0a61ca6b"
      },
      "source": [
        "De igual manera, se realizó el ajuste para los resamples con días(D) y con meses(M)."
      ],
      "id": "0a61ca6b"
    },
    {
      "cell_type": "markdown",
      "metadata": {
        "id": "fd0da05d"
      },
      "source": [
        "i. Ajuste para el resample con días(D)"
      ],
      "id": "fd0da05d"
    },
    {
      "cell_type": "code",
      "metadata": {
        "id": "35e707e8",
        "outputId": "566f8d1a-0b03-4151-d112-1f6791997163"
      },
      "source": [
        "data_d=data_d.dropna() #se excluyen del dataframe data_d los datos vacíos (nAn)\n",
        "#data_d\n",
        "get_fit(func1,data_d[\"Global_active_power\"],data_d[\"Voltage\"],\"Global_active_power\",\"Voltage\",2)\n",
        "get_fit2(func1,data_d[\"Global_active_power\"],data_d[\"Voltage\"],\"Global_active_power\",\"Voltage\",2)"
      ],
      "id": "35e707e8",
      "execution_count": null,
      "outputs": [
        {
          "data": {
            "image/png": "[encoded data removed]",
            "text/plain": [
              "<Figure size 576x432 with 1 Axes>"
            ]
          },
          "metadata": {
            "needs_background": "light"
          },
          "output_type": "display_data"
        },
        {
          "name": "stdout",
          "output_type": "stream",
          "text": [
            "Coeficients are : [  0.59 240.89]\n",
            "Sigma_Coeficients are : [0.25 0.28]\n",
            "Error on fit is =1.5254561030776914\n"
          ]
        },
        {
          "data": {
            "text/plain": [
              "(array([  0.59, 240.89]),\n",
              " array([[ 0.06, -0.06],\n",
              "        [-0.06,  0.08]]))"
            ]
          },
          "execution_count": 101,
          "metadata": {},
          "output_type": "execute_result"
        }
      ]
    },
    {
      "cell_type": "markdown",
      "metadata": {
        "id": "892d7fab"
      },
      "source": [
        "ii. Ajuste para el resample con meses(M)"
      ],
      "id": "892d7fab"
    },
    {
      "cell_type": "code",
      "metadata": {
        "id": "9cb87c8c",
        "outputId": "2dcd3bc1-9d96-4779-b4f3-d3806fbbd238"
      },
      "source": [
        "data_m=data_m.dropna() #se excluyen del dataframe data_d los datos vacíos (nAn)\n",
        "#data_d\n",
        "get_fit(func1,data_m[\"Global_active_power\"],data_m[\"Voltage\"],\"Global_active_power\",\"Voltage\",2)\n",
        "get_fit2(func1,data_m[\"Global_active_power\"],data_m[\"Voltage\"],\"Global_active_power\",\"Voltage\",2)"
      ],
      "id": "9cb87c8c",
      "execution_count": null,
      "outputs": [
        {
          "data": {
            "image/png": "[encoded data removed]",
            "text/plain": [
              "<Figure size 576x432 with 1 Axes>"
            ]
          },
          "metadata": {
            "needs_background": "light"
          },
          "output_type": "display_data"
        },
        {
          "name": "stdout",
          "output_type": "stream",
          "text": [
            "Coeficients are : [  2.63 238.71]\n",
            "Sigma_Coeficients are : [0.91 0.98]\n",
            "Error on fit is =0.36848305056952185\n"
          ]
        },
        {
          "data": {
            "text/plain": [
              "(array([  2.63, 238.71]),\n",
              " array([[ 0.83, -0.88],\n",
              "        [-0.88,  0.95]]))"
            ]
          },
          "execution_count": 102,
          "metadata": {},
          "output_type": "execute_result"
        }
      ]
    },
    {
      "cell_type": "markdown",
      "metadata": {
        "id": "sIHyEl5b6hs-"
      },
      "source": [
        "### Descripción acerca del Dataset\n",
        "\n",
        "El Dataset consistió en un conjunto de datos de consumo de energía eléctrica doméstica individual; este conjunto de datos tiene una gran extensión numérica, y posee variables correlacionadas entre sí, lo que hace que el análisis sea un poco oportuno y desafiante. \n",
        "\n",
        "Básicamente, el notebook contiene datos sobre el consumo de energía realizado en una casa individual durante un período de 1 año con una frecuencia de muestreo de 1 minuto; frecuencia que posteriormente es modificada con tal de hacer los datos más trabajables y hacer un mejor análisis respecto al comportamiento individual y general de atributos.\n",
        "\n",
        "La organización consistió en una básica tabulación con tal de reunir las variables de forma ordenada y precisa; pues, de esta forma se pudo notar en tiempos específicos un registro de los datos; acción que sirvió posteriormente para reorganizar los datos nuevamente y trabajarlos de diferentes formas.\n",
        "\n",
        "Las variables fueron:\n",
        "\n",
        "1.Date: proporciona la fecha de la forma dd/mm/yyyy.\n",
        "\n",
        "2.Time: tiempo en formato hh:mm:ss\n",
        "\n",
        "3.global_active_power: la potencia activa global (global active power) es el consumo de energía real, es decir, la potencia consumida por los aparatos eléctricos distintos de los aparatos que realizan medición eléctrica, normalmente se le denomina “potencia en vatios”.\n",
        "\n",
        "4.global_reactive_power: refiere a la potencia que rebota sin ningún generar algún uso, fuga o costo; básicamente es el consumo de energía imaginario. Se le conoce como “potencia sin vatios”.\n",
        "\n",
        "5.voltage: Voltaje medido en minutos.\n",
        "\n",
        "6.global_intensity: Intensidad de corriente promedio por minuto del hogar \n",
        "(en amperios). La intensidad es la magnitud de la energía consumida. \n",
        "\n",
        "En principio, este conjunto de datos de gran extensión es divido en 3 formas; minutos, días y meses, por lo que en cada una se encontró una diferencia grande en extensión del conjunto numérico.\n",
        "\n",
        "A través de los 3, debido al recorte numérico, se consideró naturalmente -aproximaciones brindadas por Python- un recorte también de valores entre los mismos datos, perdiendo así centésimas y milésimas de valor relevante en grandes conjuntos numéricos; cuestión que se comprobó al poner en gráfica los 3 tipos de datos y emplear un ajuste de curvas.\n",
        "\n",
        "Debido a que a mayor cantidad de datos se encuentra mayor dispersión de los mismos, el error también tiende a incrementarse por la variación de los mismos -cosa que en el empleo del presente notebook se logró encontrar-, por lo menos para la sección de minutos y días; sin embargo, se debe acotar que a medida de que se recortan la cantidad de datos y tal varianza desaparece, la incertidumbre de los valores reales de los mismos también se incrementa.\n",
        "\n",
        "La naturaleza del cálculo “real” que exporta como respuesta Python en el panel general, la cpu usada, y el rendimiento en general de la computación cotidiana, común, casera, no da abasto para encontrar con certeza un modelo exacto, o de mínimo error entre ambos tipos de consideraciones; sin embargo, con el uso dado, se considera más atractivo el empleo del recorte-aproximación de datos a menor cantidad para lograr flexibilizar manejo en diversas aplicaciones; desde el recuento del consumo eléctrico de un hogar, hasta mediciones inmensas en espacios intergalácticos.\n"
      ],
      "id": "sIHyEl5b6hs-"
    }
  ]
}